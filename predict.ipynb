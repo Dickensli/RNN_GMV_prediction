{
 "cells": [
  {
   "cell_type": "code",
   "execution_count": 1,
   "metadata": {},
   "outputs": [
    {
     "name": "stderr",
     "output_type": "stream",
     "text": [
      "/home/lihaocheng_i/miniconda2/envs/py3/lib/python3.6/site-packages/h5py/__init__.py:36: FutureWarning: Conversion of the second argument of issubdtype from `float` to `np.floating` is deprecated. In future, it will be treated as `np.float64 == np.dtype(float).type`.\n",
      "  from ._conv import register_converters as _register_converters\n"
     ]
    }
   ],
   "source": [
    "import os\n",
    "import tensorflow as tf\n",
    "from model import Model\n",
    "from input_pipe import InputPipe\n",
    "from feeder import VarFeeder\n",
    "from tqdm import trange\n",
    "import matplotlib.pyplot as plt\n",
    "import collections\n",
    "import pandas as pd\n",
    "import numpy as np\n",
    "from trainer import predict\n",
    "from hparams import build_hparams\n",
    "import hparams\n",
    "%matplotlib inline\n",
    "%config InlineBackend.figure_format = 'retina'"
   ]
  },
  {
   "cell_type": "code",
   "execution_count": 2,
   "metadata": {},
   "outputs": [],
   "source": [
    "def smape(true, pred):\n",
    "    summ = np.abs(true) + np.abs(pred)\n",
    "    smape = np.where(summ == 0, 0, np.abs(true - pred) / summ)\n",
    "    return smape\n",
    "\n",
    "def mae(true, pred):\n",
    "    return np.abs(np.abs(true) - np.abs(pred))\n",
    "\n",
    "def mean_smape(true, pred):\n",
    "    raw_smape = smape(true, pred)\n",
    "    masked_smape = np.ma.array(raw_smape, mask=np.isnan(raw_smape))\n",
    "    return masked_smape.mean()\n",
    "\n",
    "def mean_mae(true, pred):\n",
    "    raw_mae = mae(true, pred)\n",
    "    masked_mae = np.ma.array(raw_mae, mask=np.isnan(raw_mae))\n",
    "    return masked_mae.mean()\n",
    "\n",
    "def predict_loss(prev, paths):\n",
    "    # prev: true value\n",
    "    # paths: paths to the model weights\n",
    "    t_preds = []\n",
    "    for tm in range(3):\n",
    "        tf.reset_default_graph()\n",
    "        t_preds.append(predict(paths[-1:], build_hparams(hparams.params_s32),\n",
    "                        n_models=3, target_model=tm, seed=5, batch_size=50, asgd=True))\n",
    "    preds=sum(t_preds) /3\n",
    "    # mean mae\n",
    "    res = 0\n",
    "    for idx in preds.index:\n",
    "        res += np.abs(preds[idx] - prev[idx]) / prev[idx]\n",
    "    res /= 72\n",
    "    return preds, res"
   ]
  },
  {
   "cell_type": "code",
   "execution_count": 3,
   "metadata": {},
   "outputs": [
    {
     "name": "stderr",
     "output_type": "stream",
     "text": [
      "/home/lihaocheng_i/miniconda2/envs/py3/lib/python3.6/site-packages/IPython/core/interactiveshell.py:2903: DtypeWarning: Columns (15,17,18,201,231,232,233,234,235,236,237,238,280) have mixed types. Specify dtype option on import or set low_memory=False.\n",
      "  if self.run_code(code, result):\n"
     ]
    }
   ],
   "source": [
    "from feature_server import FeatureServer\n",
    "import datetime\n",
    "city_list = [1,  2,   3,   4,   5,   6,   7,   8,   9,  10,  12,  13,  14,\n",
    "              15,  16,  17,  18,  19,  20,  21,  22,  23,  24,  25,  26,  29,\n",
    "              32,  33,  34,  35,  36,  38,  39,  41,  44,  45,  46,  47,  48,\n",
    "              50,  53,  58,  62,  63,  81,  82,  83,  84,  85,  86,  87,  88,\n",
    "              89,  90,  92, 102, 105, 106, 132, 133, 134, 135, 138, 142, 143,\n",
    "              145, 153, 154, 157, 158, 159, 160, 173]\n",
    "city_list = set(city_list) - {4, 11, 31}\n",
    "path_city_day = '/nfs/isolation_project/intern/project/lihaocheng/city_forcast/city_day_features_to_yesterday.gbk.csv'\n",
    "path_weather_forecast = '/nfs/isolation_project/intern/project/lihaocheng/city_forcast/weather_forecast.csv'\n",
    "gen_feas = FeatureServer(city=city_list,\n",
    "                         path_city_day=path_city_day,\n",
    "                         path_weather_forecast=path_weather_forecast,\n",
    "                         begin_train_day=datetime.datetime.strftime(datetime.date(2017, 4, 1), '%Y-%m-%d'),\n",
    "                         end_train_day=datetime.datetime.strftime(datetime.date(2018, 7, 4), '%Y-%m-%d'),\n",
    "                         begin_val_day=datetime.datetime.strftime(datetime.date(2018, 7, 5), '%Y-%m-%d'),\n",
    "                         end_val_day=datetime.datetime.strftime(datetime.date(2018, 7, 26), '%Y-%m-%d'),\n",
    "                         begin_infer_day=datetime.datetime.strftime(datetime.date(2018, 7, 27), '%Y-%m-%d'))\n",
    "[train_x, train_embed_weekday, train_embed_month,\n",
    " train_embed_city, train_real_city, train_y_origin],\\\n",
    "[val_x, val_embed_weekday, val_embed_month,\n",
    " val_embed_city, val_real_city, val_y_origin],\\\n",
    "[infer_x, infer_embed_weekday, infer_embed_month,\n",
    " infer_embed_city, infer_city_map, infer_y_origin],\\\n",
    "city_max, city_min, train_mean, train_std = gen_feas.gen_whole_data(2)"
   ]
  },
  {
   "cell_type": "code",
   "execution_count": 4,
   "metadata": {},
   "outputs": [],
   "source": [
    "prev = infer_y_origin.groupby('city_id').tail(1).reset_index(drop=True)['total_no_call_order_cnt']\n",
    "paths = [p for p in tf.train.get_checkpoint_state(os.path.join('data/cpt', 's32')).all_model_checkpoint_paths]"
   ]
  },
  {
   "cell_type": "code",
   "execution_count": 5,
   "metadata": {
    "scrolled": true
   },
   "outputs": [
    {
     "name": "stdout",
     "output_type": "stream",
     "text": [
      "INFO:tensorflow:Restoring parameters from data/vars/feeder.cpt\n",
      "INFO:tensorflow:Restoring parameters from data/cpt/s32/cpt-723\n",
      "0.Done!\n",
      "INFO:tensorflow:Restoring parameters from data/vars/feeder.cpt\n",
      "INFO:tensorflow:Restoring parameters from data/cpt/s32/cpt-723\n",
      "0.Done!\n",
      "INFO:tensorflow:Restoring parameters from data/vars/feeder.cpt\n",
      "INFO:tensorflow:Restoring parameters from data/cpt/s32/cpt-723\n",
      "0.Done!\n"
     ]
    },
    {
     "data": {
      "text/plain": [
       "0.17967790319334273"
      ]
     },
     "execution_count": 5,
     "metadata": {},
     "output_type": "execute_result"
    }
   ],
   "source": [
    "paths = [p for p in tf.train.get_checkpoint_state(os.path.join('data/cpt', 's32')).all_model_checkpoint_paths]\n",
    "preds, loss = predict_loss(prev, paths)\n",
    "loss"
   ]
  }
 ],
 "metadata": {
  "kernelspec": {
   "display_name": "Python 3",
   "language": "python",
   "name": "python3"
  },
  "language_info": {
   "codemirror_mode": {
    "name": "ipython",
    "version": 3
   },
   "file_extension": ".py",
   "mimetype": "text/x-python",
   "name": "python",
   "nbconvert_exporter": "python",
   "pygments_lexer": "ipython3",
   "version": "3.6.5"
  }
 },
 "nbformat": 4,
 "nbformat_minor": 2
}
